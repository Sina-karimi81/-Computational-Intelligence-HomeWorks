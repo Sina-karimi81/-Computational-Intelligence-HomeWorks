{
  "cells": [
    {
      "cell_type": "markdown",
      "id": "4e262310",
      "metadata": {
        "id": "4e262310"
      },
      "source": [
        "### Import Libs"
      ]
    },
    {
      "cell_type": "code",
      "execution_count": 1,
      "id": "95d3f1324b0501e6",
      "metadata": {
        "id": "95d3f1324b0501e6"
      },
      "outputs": [],
      "source": [
        "import matplotlib.pyplot as plt\n",
        "import random as rand"
      ]
    },
    {
      "cell_type": "markdown",
      "id": "9da22522",
      "metadata": {
        "id": "9da22522"
      },
      "source": [
        "### Create Individual"
      ]
    },
    {
      "cell_type": "code",
      "execution_count": 2,
      "id": "de1142d0",
      "metadata": {
        "id": "de1142d0"
      },
      "outputs": [],
      "source": [
        "def create_individual():\n",
        "    # TODO: create a random chromosome\n",
        "    chromosome = [1, 2, 3, 4, 5, 6, 7, 8]\n",
        "    rand.shuffle(chromosome)\n",
        "    return tuple(chromosome)"
      ]
    },
    {
      "cell_type": "markdown",
      "id": "4ce5eabe",
      "metadata": {
        "id": "4ce5eabe"
      },
      "source": [
        "### Generate Population"
      ]
    },
    {
      "cell_type": "code",
      "execution_count": 3,
      "id": "a66475735b552b41",
      "metadata": {
        "id": "a66475735b552b41"
      },
      "outputs": [],
      "source": [
        "def generate_population(population_size:int = 20):\n",
        "    population = []\n",
        "\n",
        "    for _ in range(population_size):\n",
        "        new_individual = create_individual()\n",
        "        population.append(new_individual)\n",
        "\n",
        "    return population"
      ]
    },
    {
      "cell_type": "markdown",
      "id": "0d944dab",
      "metadata": {
        "id": "0d944dab"
      },
      "source": [
        "### Parent Selection"
      ]
    },
    {
      "cell_type": "code",
      "execution_count": 4,
      "id": "261340cc4efeca3",
      "metadata": {
        "id": "261340cc4efeca3"
      },
      "outputs": [],
      "source": [
        "def parent_selection(population):\n",
        "    parents = [(), ()]\n",
        "    #TODO: choose the pairs of parents\n",
        "    pop = list(population.keys())\n",
        "    fits = [population[p] for p in pop]\n",
        "    while parents[0] == parents[1]:\n",
        "      parents = rand.choices(population=pop, weights=fits, k=2)\n",
        "    return parents"
      ]
    },
    {
      "cell_type": "markdown",
      "id": "c6c4da1f",
      "metadata": {
        "id": "c6c4da1f"
      },
      "source": [
        "### Next Generation Selection"
      ]
    },
    {
      "cell_type": "code",
      "execution_count": 5,
      "id": "d22feb7e",
      "metadata": {
        "id": "d22feb7e"
      },
      "outputs": [],
      "source": [
        "def next_generation_selection(children_population,  population_size):\n",
        "    next_generation = []\n",
        "    children_population_sorted = sorted(children_population.items(), key=lambda item: item[1])\n",
        "    return dict(children_population_sorted[:population_size])"
      ]
    },
    {
      "cell_type": "markdown",
      "id": "f4380bb4",
      "metadata": {
        "id": "f4380bb4"
      },
      "source": [
        "### Crossover"
      ]
    },
    {
      "cell_type": "code",
      "execution_count": 6,
      "id": "a140f7ad9542ffba",
      "metadata": {
        "id": "a140f7ad9542ffba"
      },
      "outputs": [],
      "source": [
        "def crossover(parents):\n",
        "\n",
        "    offsprings = []\n",
        "    offsprings.append([0,0,0,0,0,0,0,0])\n",
        "    offsprings.append([0,0,0,0,0,0,0,0])\n",
        "\n",
        "    # select a random part\n",
        "    idx1 = rand.randint(0,7)\n",
        "    idx2 = rand.randint(idx1,7)\n",
        "\n",
        "    # copy the part from one parent\n",
        "    for i in range(idx1, idx2+1):\n",
        "        offsprings[0][i] = parents[0][i]\n",
        "        offsprings[1][i] = parents[1][i]\n",
        "\n",
        "    # copy the rest from the other parent\n",
        "    for prnt in range(len(parents)):\n",
        "        other_prnt = (prnt+1)%2\n",
        "        offspring_curr_idx = (idx2+1) % 8\n",
        "        for i in range(0,8):\n",
        "            i = (i+idx2+1) % 8\n",
        "            if parents[prnt][i] not in offsprings[other_prnt]:\n",
        "                offsprings[other_prnt][offspring_curr_idx] = parents[prnt][i]\n",
        "                offspring_curr_idx = (offspring_curr_idx+1) % 8\n",
        "\n",
        "    return [tuple(offsprings[0]), tuple(offsprings[1])]"
      ]
    },
    {
      "cell_type": "markdown",
      "id": "0bdde8d6",
      "metadata": {
        "id": "0bdde8d6"
      },
      "source": [
        "### Mutation"
      ]
    },
    {
      "cell_type": "code",
      "execution_count": 7,
      "id": "7f3f19b5790d8e8e",
      "metadata": {
        "id": "7f3f19b5790d8e8e"
      },
      "outputs": [],
      "source": [
        "def mutate(seq):\n",
        "    #TODO: implement mutate\n",
        "    p = 0.2\n",
        "    al1, al2 = rand.sample(range(len(seq)), 2)\n",
        "    if rand.random() < p:\n",
        "        seq = list(seq)\n",
        "        seq[al1], seq[al2] = seq[al2], seq[al1]\n",
        "    return tuple(seq)"
      ]
    },
    {
      "cell_type": "markdown",
      "id": "833ea75e",
      "metadata": {
        "id": "833ea75e"
      },
      "source": [
        "### Score Function"
      ]
    },
    {
      "cell_type": "code",
      "execution_count": 8,
      "id": "15c492631c51bd96",
      "metadata": {
        "id": "15c492631c51bd96"
      },
      "outputs": [],
      "source": [
        "def fitness_score(seq):\n",
        "    fit_score = 0\n",
        "    #TODO: calculate fitness score\n",
        "    for i1 in range(len(seq)):\n",
        "        for i2 in range(i1+1, len(seq)):\n",
        "            if abs(i1 - i2) != abs(seq[i1] - seq[i2]):\n",
        "                fit_score += 1\n",
        "\n",
        "    return fit_score"
      ]
    },
    {
      "cell_type": "markdown",
      "id": "9a4ea63e",
      "metadata": {
        "id": "9a4ea63e"
      },
      "source": [
        "## Calculate Population Fitness"
      ]
    },
    {
      "cell_type": "code",
      "execution_count": 9,
      "id": "ae632959",
      "metadata": {
        "id": "ae632959"
      },
      "outputs": [],
      "source": [
        "def population_fitness(population):\n",
        "   pop_fitness = 0\n",
        "   individuals_fitnesses:dict = {}\n",
        "   for chromosome in population:\n",
        "        fitness_sc = fitness_score(chromosome)\n",
        "        pop_fitness += fitness_sc\n",
        "        individuals_fitnesses[chromosome] = fitness_sc\n",
        "   return individuals_fitnesses ,pop_fitness"
      ]
    },
    {
      "cell_type": "markdown",
      "id": "99b5facc",
      "metadata": {
        "id": "99b5facc"
      },
      "source": [
        "### Termination Condition"
      ]
    },
    {
      "cell_type": "code",
      "execution_count": 10,
      "id": "5f77977c",
      "metadata": {
        "id": "5f77977c"
      },
      "outputs": [],
      "source": [
        "def check_end(population) -> bool:\n",
        "    #TODO: check end of algorithm\n",
        "    check_end.cycle_limit -= 1\n",
        "    if 28 in population.values():\n",
        "        return True\n",
        "\n",
        "    if check_end.cycle_limit == 0:\n",
        "        print(\"Warning: cycle limit reached!\")\n",
        "        return True\n",
        "\n",
        "    return False"
      ]
    },
    {
      "cell_type": "markdown",
      "id": "b223c1dc",
      "metadata": {
        "id": "b223c1dc"
      },
      "source": [
        "### Run Your Algorithms"
      ]
    },
    {
      "cell_type": "code",
      "execution_count": 11,
      "id": "392ff74d8fb7ab3e",
      "metadata": {
        "colab": {
          "base_uri": "https://localhost:8080/"
        },
        "id": "392ff74d8fb7ab3e",
        "outputId": "43a45350-33f4-46a7-d65d-00b1fe824cd0"
      },
      "outputs": [
        {
          "output_type": "stream",
          "name": "stdout",
          "text": [
            "best reached score = 28\n",
            "by : (4, 8, 5, 3, 1, 7, 2, 6)\n"
          ]
        }
      ],
      "source": [
        "    # The genetic algorithm\n",
        "    population_size = 20\n",
        "    generation = 0\n",
        "    solution_is_found = False\n",
        "    fitness = []\n",
        "    best_fit = []\n",
        "\n",
        "    population = generate_population(population_size=population_size)\n",
        "    population , _ = population_fitness(population)\n",
        "\n",
        "    check_end.cycle_limit = 300\n",
        "    while not check_end(population):\n",
        "        new_population = []\n",
        "        for i in range(int(population_size/2)):\n",
        "            pair = parent_selection(population)\n",
        "            children = crossover(pair)\n",
        "            new_population += [mutate(c) for c in children]\n",
        "        new_population , _ = population_fitness(new_population)\n",
        "        population = next_generation_selection(new_population, population_size=population_size)\n",
        "\n",
        "        generation += 1\n",
        "        gen_fitness = sum(list(population.values()))\n",
        "        avg_fit = gen_fitness / population.__len__()\n",
        "        best_fit.append(max(list(population.values())))\n",
        "        fitness.append(avg_fit)\n",
        "\n",
        "\n",
        "    best = None\n",
        "    for k,v in population.items():\n",
        "      if best is None or v > population[best]:\n",
        "        best = k\n",
        "\n",
        "    print(f'best reached score = {best_fit[-1]}\\nby : {k}')\n"
      ]
    },
    {
      "cell_type": "markdown",
      "id": "174334b7",
      "metadata": {
        "id": "174334b7"
      },
      "source": [
        "### See Your Progress Over Generations"
      ]
    },
    {
      "cell_type": "code",
      "execution_count": 12,
      "id": "62a19a5f372d7885",
      "metadata": {
        "colab": {
          "base_uri": "https://localhost:8080/",
          "height": 494
        },
        "id": "62a19a5f372d7885",
        "outputId": "20ebea97-96ae-4216-b274-4d677e38a0c0"
      },
      "outputs": [
        {
          "output_type": "display_data",
          "data": {
            "text/plain": [
              "<Figure size 640x480 with 1 Axes>"
            ],
            "image/png": "[encoded data removed]"
          },
          "metadata": {}
        }
      ],
      "source": [
        "plt.bar(range(generation), fitness, color='skyblue')\n",
        "plt.xlabel('Generation', fontsize=20)\n",
        "plt.ylabel('Average Fitness', fontsize=20)\n",
        "plt.title('Fitness over Generations', fontsize=20)\n",
        "plt.show()"
      ]
    }
  ],
  "metadata": {
    "kernelspec": {
      "display_name": "Python 3",
      "language": "python",
      "name": "python3"
    },
    "language_info": {
      "codemirror_mode": {
        "name": "ipython",
        "version": 2
      },
      "file_extension": ".py",
      "mimetype": "text/x-python",
      "name": "python",
      "nbconvert_exporter": "python",
      "pygments_lexer": "ipython2",
      "version": "2.7.6"
    },
    "colab": {
      "provenance": []
    }
  },
  "nbformat": 4,
  "nbformat_minor": 5
}