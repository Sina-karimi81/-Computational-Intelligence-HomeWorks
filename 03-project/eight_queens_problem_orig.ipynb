{
  "cells": [
    {
      "cell_type": "markdown",
      "id": "4e262310",
      "metadata": {
        "id": "4e262310"
      },
      "source": [
        "### Import Libs"
      ]
    },
    {
      "cell_type": "code",
      "execution_count": 76,
      "id": "95d3f1324b0501e6",
      "metadata": {
        "is_executing": true,
        "id": "95d3f1324b0501e6"
      },
      "outputs": [],
      "source": [
        "import matplotlib.pyplot as plt\n",
        "import random\n",
        "from scipy import special as sc\n",
        "import itertools"
      ]
    },
    {
      "cell_type": "markdown",
      "id": "9da22522",
      "metadata": {
        "id": "9da22522"
      },
      "source": [
        "### Create Individual"
      ]
    },
    {
      "cell_type": "code",
      "execution_count": 77,
      "id": "de1142d0",
      "metadata": {
        "id": "de1142d0"
      },
      "outputs": [],
      "source": [
        "def create_individual():\n",
        "    # TODO: create a random chromosome\n",
        "    return [random.randrange(8) for idx in range(8)]"
      ]
    },
    {
      "cell_type": "markdown",
      "id": "4ce5eabe",
      "metadata": {
        "id": "4ce5eabe"
      },
      "source": [
        "### Generate Population"
      ]
    },
    {
      "cell_type": "code",
      "execution_count": 78,
      "id": "a66475735b552b41",
      "metadata": {
        "id": "a66475735b552b41"
      },
      "outputs": [],
      "source": [
        "def generate_population(population_size:int = 20):\n",
        "    population = []\n",
        "\n",
        "    for _ in range(population_size):\n",
        "        new_individual = create_individual()\n",
        "        population.append(new_individual)\n",
        "\n",
        "    return population"
      ]
    },
    {
      "cell_type": "markdown",
      "id": "0d944dab",
      "metadata": {
        "id": "0d944dab"
      },
      "source": [
        "### Parent Selection"
      ]
    },
    {
      "cell_type": "code",
      "execution_count": 79,
      "id": "261340cc4efeca3",
      "metadata": {
        "id": "261340cc4efeca3"
      },
      "outputs": [],
      "source": [
        "def parent_selection(population):\n",
        "    parents = []\n",
        "    #TODO: choose the pairs of parents\n",
        "    for ind in population:\n",
        "        #select parents with probability proportional to their fitness score\n",
        "        if random.randrange(sc.comb(8, 2)*2) < fitness_score(ind):\n",
        "            parents.append(ind)\n",
        "    return parents"
      ]
    },
    {
      "cell_type": "markdown",
      "id": "c6c4da1f",
      "metadata": {
        "id": "c6c4da1f"
      },
      "source": [
        "### Next Generation Selection"
      ]
    },
    {
      "cell_type": "code",
      "execution_count": 80,
      "id": "d22feb7e",
      "metadata": {
        "id": "d22feb7e"
      },
      "outputs": [],
      "source": [
        "def next_generation_selection(children_population):\n",
        "    next_generation = []\n",
        "    #TODO: choose the next_generation\n",
        "    #select individuals to become parents\n",
        "    parents = parent_selection(population)\n",
        "\n",
        "    #recombination. Create new offsprings\n",
        "    offsprings = crossover(parents)\n",
        "\n",
        "    #mutation\n",
        "    offsprings = list(map(mutate, offsprings))\n",
        "\n",
        "    #introduce top-scoring individuals from previous generation and keep top fitness individuals\n",
        "    next_generation = offsprings\n",
        "\n",
        "    for ind in population:\n",
        "        next_generation.append(ind)\n",
        "\n",
        "    next_generation = sorted(next_generation, key=lambda ind: fitness_score(ind), reverse=True)[:20]\n",
        "    return next_generation"
      ]
    },
    {
      "cell_type": "markdown",
      "id": "f4380bb4",
      "metadata": {
        "id": "f4380bb4"
      },
      "source": [
        "### Crossover"
      ]
    },
    {
      "cell_type": "code",
      "execution_count": 81,
      "id": "a140f7ad9542ffba",
      "metadata": {
        "id": "a140f7ad9542ffba"
      },
      "outputs": [],
      "source": [
        "def crossover(parents):\n",
        "    offsprings = []\n",
        "    #TODO: implement you crossover algorithm\n",
        "    cross_points = random.sample(range(8), 1)\n",
        "    permutations = list(itertools.permutations(parents, 2))\n",
        "\n",
        "    for perm in permutations:\n",
        "        offspring = []\n",
        "\n",
        "        #track starting index of sublist\n",
        "        start_pt = 0\n",
        "\n",
        "        for parent_idx, cross_point in enumerate(cross_points): #doesn't account for last parent\n",
        "\n",
        "            #sublist of parent to be crossed\n",
        "            parent_part = perm[parent_idx][start_pt:cross_point]\n",
        "            offspring.append(parent_part)\n",
        "\n",
        "            #update index pointer\n",
        "            start_pt = cross_point\n",
        "\n",
        "        #last parent\n",
        "        last_parent = perm[-1]\n",
        "        parent_part = last_parent[cross_point:]\n",
        "        offspring.append(parent_part)\n",
        "\n",
        "        #flatten the list since append works kinda differently\n",
        "        offsprings.append(list(itertools.chain(*offspring)))\n",
        "    return offsprings"
      ]
    },
    {
      "cell_type": "markdown",
      "id": "0bdde8d6",
      "metadata": {
        "id": "0bdde8d6"
      },
      "source": [
        "### Mutation"
      ]
    },
    {
      "cell_type": "code",
      "execution_count": 82,
      "id": "7f3f19b5790d8e8e",
      "metadata": {
        "id": "7f3f19b5790d8e8e"
      },
      "outputs": [],
      "source": [
        "def mutate(seq):\n",
        "    #TODO: implement mutate\n",
        "    for row in range(len(seq)):\n",
        "        if random.random() < 0.05:\n",
        "            seq[row] = random.randrange(8)\n",
        "\n",
        "    return seq"
      ]
    },
    {
      "cell_type": "markdown",
      "id": "833ea75e",
      "metadata": {
        "id": "833ea75e"
      },
      "source": [
        "### Score Function"
      ]
    },
    {
      "cell_type": "code",
      "execution_count": 93,
      "id": "15c492631c51bd96",
      "metadata": {
        "id": "15c492631c51bd96"
      },
      "outputs": [],
      "source": [
        "def fitness_score(seq):\n",
        "    fit_score = 0\n",
        "    #TODO: calculate fitness score\n",
        "    seq = list(seq)\n",
        "    for row in range(8):\n",
        "        col = seq[row]\n",
        "\n",
        "        for other_row in range(8):\n",
        "\n",
        "            #queens cannot pair with itself\n",
        "            if other_row == row:\n",
        "                continue\n",
        "            if seq[other_row] == col:\n",
        "                continue\n",
        "            if other_row + seq[other_row] == row + col:\n",
        "                continue\n",
        "            if other_row - seq[other_row] == row - col:\n",
        "                continue\n",
        "            #score++ if every pair of queens are non-attacking.\n",
        "            fit_score += 1\n",
        "\n",
        "    return fit_score/2"
      ]
    },
    {
      "cell_type": "markdown",
      "id": "9a4ea63e",
      "metadata": {
        "id": "9a4ea63e"
      },
      "source": [
        "## Calculate Population Fitness"
      ]
    },
    {
      "cell_type": "code",
      "execution_count": 84,
      "id": "ae632959",
      "metadata": {
        "id": "ae632959"
      },
      "outputs": [],
      "source": [
        "def population_fitness(population):\n",
        "    pop_fitness = 0\n",
        "    individuals_fitnesses:dict = {}\n",
        "    for chromosome in population:\n",
        "        fitness_sc = fitness_score(chromosome)\n",
        "        pop_fitness += fitness_sc\n",
        "        individuals_fitnesses[tuple(chromosome)] = fitness_sc\n",
        "    return individuals_fitnesses ,pop_fitness"
      ]
    },
    {
      "cell_type": "markdown",
      "id": "99b5facc",
      "metadata": {
        "id": "99b5facc"
      },
      "source": [
        "### Termination Condition"
      ]
    },
    {
      "cell_type": "code",
      "execution_count": 85,
      "id": "5f77977c",
      "metadata": {
        "id": "5f77977c"
      },
      "outputs": [],
      "source": [
        "def check_end(population) -> bool:\n",
        "    #TODO: check end of algorithm\n",
        "    for ind in population:\n",
        "        score = fitness_score(ind)\n",
        "        if score == sc.comb(8, 2):\n",
        "            return True\n",
        "\n",
        "    return False"
      ]
    },
    {
      "cell_type": "markdown",
      "id": "b223c1dc",
      "metadata": {
        "id": "b223c1dc"
      },
      "source": [
        "### Run Your Algorithms"
      ]
    },
    {
      "cell_type": "code",
      "execution_count": 100,
      "id": "392ff74d8fb7ab3e",
      "metadata": {
        "colab": {
          "base_uri": "https://localhost:8080/",
          "height": 391
        },
        "id": "392ff74d8fb7ab3e",
        "outputId": "29506844-b3dc-4fa3-af8c-a38592b94a0f"
      },
      "outputs": [
        {
          "output_type": "stream",
          "name": "stderr",
          "text": [
            "<ipython-input-79-7a4394c831bc>:6: DeprecationWarning: non-integer arguments to randrange() have been deprecated since Python 3.10 and will be removed in a subsequent version\n",
            "  if random.randrange(sc.comb(8, 2)*2) < fitness_score(ind):\n"
          ]
        },
        {
          "output_type": "error",
          "ename": "TypeError",
          "evalue": "'int' object is not iterable",
          "traceback": [
            "\u001b[0;31m---------------------------------------------------------------------------\u001b[0m",
            "\u001b[0;31mTypeError\u001b[0m                                 Traceback (most recent call last)",
            "\u001b[0;32m<ipython-input-100-0be3a7ee4563>\u001b[0m in \u001b[0;36m<cell line: 11>\u001b[0;34m()\u001b[0m\n\u001b[1;32m     14\u001b[0m     \u001b[0mpopulation\u001b[0m \u001b[0;34m=\u001b[0m \u001b[0mcrossover\u001b[0m\u001b[0;34m(\u001b[0m\u001b[0mpopulation\u001b[0m\u001b[0;34m)\u001b[0m\u001b[0;34m\u001b[0m\u001b[0;34m\u001b[0m\u001b[0m\n\u001b[1;32m     15\u001b[0m     \u001b[0mpopulation\u001b[0m \u001b[0;34m=\u001b[0m \u001b[0mmutate\u001b[0m\u001b[0;34m(\u001b[0m\u001b[0mpopulation\u001b[0m\u001b[0;34m)\u001b[0m\u001b[0;34m\u001b[0m\u001b[0;34m\u001b[0m\u001b[0m\n\u001b[0;32m---> 16\u001b[0;31m     \u001b[0mindividuals_fitnesses\u001b[0m \u001b[0;34m,\u001b[0m \u001b[0mpop_fitness\u001b[0m \u001b[0;34m=\u001b[0m \u001b[0mpopulation_fitness\u001b[0m\u001b[0;34m(\u001b[0m\u001b[0mpopulation\u001b[0m\u001b[0;34m)\u001b[0m\u001b[0;34m\u001b[0m\u001b[0;34m\u001b[0m\u001b[0m\n\u001b[0m\u001b[1;32m     17\u001b[0m     \u001b[0mpopulation\u001b[0m \u001b[0;34m=\u001b[0m \u001b[0mnext_generation_selection\u001b[0m\u001b[0;34m(\u001b[0m\u001b[0mpopulation\u001b[0m\u001b[0;34m)\u001b[0m\u001b[0;34m\u001b[0m\u001b[0;34m\u001b[0m\u001b[0m\n\u001b[1;32m     18\u001b[0m \u001b[0;34m\u001b[0m\u001b[0m\n",
            "\u001b[0;32m<ipython-input-84-c2c2505546a0>\u001b[0m in \u001b[0;36mpopulation_fitness\u001b[0;34m(population)\u001b[0m\n\u001b[1;32m      3\u001b[0m     \u001b[0mindividuals_fitnesses\u001b[0m\u001b[0;34m:\u001b[0m\u001b[0mdict\u001b[0m \u001b[0;34m=\u001b[0m \u001b[0;34m{\u001b[0m\u001b[0;34m}\u001b[0m\u001b[0;34m\u001b[0m\u001b[0;34m\u001b[0m\u001b[0m\n\u001b[1;32m      4\u001b[0m     \u001b[0;32mfor\u001b[0m \u001b[0mchromosome\u001b[0m \u001b[0;32min\u001b[0m \u001b[0mpopulation\u001b[0m\u001b[0;34m:\u001b[0m\u001b[0;34m\u001b[0m\u001b[0;34m\u001b[0m\u001b[0m\n\u001b[0;32m----> 5\u001b[0;31m         \u001b[0mfitness_sc\u001b[0m \u001b[0;34m=\u001b[0m \u001b[0mfitness_score\u001b[0m\u001b[0;34m(\u001b[0m\u001b[0mchromosome\u001b[0m\u001b[0;34m)\u001b[0m\u001b[0;34m\u001b[0m\u001b[0;34m\u001b[0m\u001b[0m\n\u001b[0m\u001b[1;32m      6\u001b[0m         \u001b[0mpop_fitness\u001b[0m \u001b[0;34m+=\u001b[0m \u001b[0mfitness_sc\u001b[0m\u001b[0;34m\u001b[0m\u001b[0;34m\u001b[0m\u001b[0m\n\u001b[1;32m      7\u001b[0m         \u001b[0mindividuals_fitnesses\u001b[0m\u001b[0;34m[\u001b[0m\u001b[0mtuple\u001b[0m\u001b[0;34m(\u001b[0m\u001b[0mchromosome\u001b[0m\u001b[0;34m)\u001b[0m\u001b[0;34m]\u001b[0m \u001b[0;34m=\u001b[0m \u001b[0mfitness_sc\u001b[0m\u001b[0;34m\u001b[0m\u001b[0;34m\u001b[0m\u001b[0m\n",
            "\u001b[0;32m<ipython-input-93-cbfb47c28e41>\u001b[0m in \u001b[0;36mfitness_score\u001b[0;34m(seq)\u001b[0m\n\u001b[1;32m      2\u001b[0m     \u001b[0mfit_score\u001b[0m \u001b[0;34m=\u001b[0m \u001b[0;36m0\u001b[0m\u001b[0;34m\u001b[0m\u001b[0;34m\u001b[0m\u001b[0m\n\u001b[1;32m      3\u001b[0m     \u001b[0;31m#TODO: calculate fitness score\u001b[0m\u001b[0;34m\u001b[0m\u001b[0;34m\u001b[0m\u001b[0m\n\u001b[0;32m----> 4\u001b[0;31m     \u001b[0mseq\u001b[0m \u001b[0;34m=\u001b[0m \u001b[0mlist\u001b[0m\u001b[0;34m(\u001b[0m\u001b[0mseq\u001b[0m\u001b[0;34m)\u001b[0m\u001b[0;34m\u001b[0m\u001b[0;34m\u001b[0m\u001b[0m\n\u001b[0m\u001b[1;32m      5\u001b[0m     \u001b[0;32mfor\u001b[0m \u001b[0mrow\u001b[0m \u001b[0;32min\u001b[0m \u001b[0mrange\u001b[0m\u001b[0;34m(\u001b[0m\u001b[0;36m8\u001b[0m\u001b[0;34m)\u001b[0m\u001b[0;34m:\u001b[0m\u001b[0;34m\u001b[0m\u001b[0;34m\u001b[0m\u001b[0m\n\u001b[1;32m      6\u001b[0m         \u001b[0mcol\u001b[0m \u001b[0;34m=\u001b[0m \u001b[0mseq\u001b[0m\u001b[0;34m[\u001b[0m\u001b[0mrow\u001b[0m\u001b[0;34m]\u001b[0m\u001b[0;34m\u001b[0m\u001b[0;34m\u001b[0m\u001b[0m\n",
            "\u001b[0;31mTypeError\u001b[0m: 'int' object is not iterable"
          ]
        }
      ],
      "source": [
        "#The genetic algorithm\n",
        "generation = 0\n",
        "solution_is_found = False\n",
        "fitness = []\n",
        "\n",
        "population = generate_population()\n",
        "population , pop_fitness = population_fitness(population)\n",
        "\n",
        "generation = 0\n",
        "\n",
        "while not check_end(population):\n",
        "    # TODO: this is a default setup which you maybe need to change.\n",
        "    population = parent_selection(population)\n",
        "    population = crossover(population)\n",
        "    population = mutate(population)\n",
        "    individuals_fitnesses , pop_fitness = population_fitness(population)\n",
        "    population = next_generation_selection(population)\n",
        "\n",
        "    generation += 1\n",
        "    print(population_fitness)\n",
        "    print(population.__len__())\n",
        "    avg_fit = population_fitness / population.__len__()\n",
        "    fitness.append(avg_fit)\n"
      ]
    },
    {
      "cell_type": "markdown",
      "id": "174334b7",
      "metadata": {
        "id": "174334b7"
      },
      "source": [
        "### See Your Progress Over Generations"
      ]
    },
    {
      "cell_type": "code",
      "execution_count": null,
      "id": "62a19a5f372d7885",
      "metadata": {
        "id": "62a19a5f372d7885"
      },
      "outputs": [],
      "source": [
        "plt.bar(range(generation), fitness, color='skyblue')\n",
        "plt.xlabel('Generation', fontsize=20)\n",
        "plt.ylabel('Average Fitness', fontsize=20)\n",
        "plt.title('Fitness over Generations', fontsize=20)\n",
        "plt.show()"
      ]
    }
  ],
  "metadata": {
    "kernelspec": {
      "display_name": "Python 3",
      "language": "python",
      "name": "python3"
    },
    "language_info": {
      "codemirror_mode": {
        "name": "ipython",
        "version": 2
      },
      "file_extension": ".py",
      "mimetype": "text/x-python",
      "name": "python",
      "nbconvert_exporter": "python",
      "pygments_lexer": "ipython2",
      "version": "2.7.6"
    },
    "colab": {
      "provenance": []
    }
  },
  "nbformat": 4,
  "nbformat_minor": 5
}